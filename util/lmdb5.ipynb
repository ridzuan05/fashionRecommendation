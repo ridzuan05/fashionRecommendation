{
 "cells": [
  {
   "cell_type": "code",
   "execution_count": 8,
   "metadata": {
    "collapsed": true
   },
   "outputs": [],
   "source": [
    "from itertools import izip\n",
    "import re\n",
    "import random"
   ]
  },
  {
   "cell_type": "code",
   "execution_count": 9,
   "metadata": {
    "collapsed": true
   },
   "outputs": [],
   "source": [
    "#read image path\n",
    "top_path = open(\"/home/tonghe2/Polyvore_small/Exp1c/img_list/img_list_top.txt\").readlines()\n",
    "bot_path = open(\"/home/tonghe2/Polyvore_small/Exp1c/img_list/img_list_bottom.txt\").readlines()\n",
    "sho_path = open(\"/home/tonghe2/Polyvore_small/Exp1c/img_list/img_list_shoe.txt\").readlines()"
   ]
  },
  {
   "cell_type": "code",
   "execution_count": 11,
   "metadata": {
    "collapsed": false
   },
   "outputs": [],
   "source": [
    "#for training data\n",
    "\n",
    "#open tuples_train_posi_shuffled (270000), tuples_train_neg_shuffled (270000)\n",
    "tuples_tr_p_shu = open('/home/tonghe2/Polyvore_small/Exp1c/tuple_180/tuples_train_posi_shuffled.txt').readlines()\n",
    "tuples_tr_n_shu = open('/home/tonghe2/Polyvore_small/Exp1c/tuple_180/tuples_train_neg_shuffled.txt').readlines()\n",
    "\n",
    "tuples_tr = []\n",
    "for i in range(0, len(tuples_tr_p_shu)):\n",
    "    tuples_tr.append(tuples_tr_p_shu[i].strip('\\r\\n') + ' 1' + '\\r\\n')\n",
    "    tuples_tr.append(tuples_tr_n_shu[i].strip('\\r\\n') + ' 0' + '\\r\\n')\n",
    "\n",
    "random.shuffle(tuples_tr)\n",
    "random.shuffle(tuples_tr)\n",
    "random.shuffle(tuples_tr)\n",
    "\n",
    "#read train inter idx\n",
    "top_train = open(\"/home/tonghe2/Polyvore_small/Exp1c/tuple_180/top_ind_train.txt\").readlines()\n",
    "bot_train = open(\"/home/tonghe2/Polyvore_small/Exp1c/tuple_180/bottom_ind_train.txt\").readlines()\n",
    "sho_train = open(\"/home/tonghe2/Polyvore_small/Exp1c/tuple_180/shoe_ind_train.txt\").readlines()\n",
    "\n",
    "tr_top = open('/home/tonghe2/Polyvore_small/Exp1c/tuple_180/tr_top.txt','w')\n",
    "tr_bottom = open('/home/tonghe2/Polyvore_small/Exp1c/tuple_180/tr_bottom.txt','w')\n",
    "tr_shoe = open('/home/tonghe2/Polyvore_small/Exp1c/tuple_180/tr_shoe.txt','w')\n",
    "\n",
    "\n",
    "for i in range(0, len(tuples_tr)):\n",
    "    #label\n",
    "    label = re.findall(r'\\d+',tuples_tr[i])[4]\n",
    "    #inter idx\n",
    "    top_idx1 = re.findall(r'\\d+',tuples_tr[i])[1]\n",
    "    bot_idx1 = re.findall(r'\\d+',tuples_tr[i])[2]\n",
    "    sho_idx1 = re.findall(r'\\d+',tuples_tr[i])[3]\n",
    "    #final idx\n",
    "    top_idx2 = top_train[int(top_idx1)]\n",
    "    bot_idx2 = bot_train[int(bot_idx1)]\n",
    "    sho_idx2 = sho_train[int(sho_idx1)]\n",
    "    #image path + label\n",
    "    top_img = 'top/'+top_path[int(top_idx2)].strip('\\r\\n')+' '+label+'\\r\\n'\n",
    "    bot_img = 'bottom/'+bot_path[int(bot_idx2)].strip('\\r\\n')+' '+label+'\\r\\n'\n",
    "    sho_img = 'shoe/'+sho_path[int(sho_idx2)].strip('\\r\\n')+' '+label+'\\r\\n'\n",
    "    #write to tr_top.txt\n",
    "    tr_top.write(top_img)\n",
    "    #write to tr_bottom.txt\n",
    "    tr_bottom.write(bot_img)\n",
    "    #write to tr_shoe.txt\n",
    "    tr_shoe.write(sho_img)\n",
    "\n",
    "tr_top.close()\n",
    "tr_bottom.close()\n",
    "tr_shoe.close()"
   ]
  },
  {
   "cell_type": "code",
   "execution_count": 12,
   "metadata": {
    "collapsed": true
   },
   "outputs": [],
   "source": [
    "#for testing data\n",
    "\n",
    "#open tuples_test_posi_shuffled (67500), tuples_test_neg_shuffled (67500)\n",
    "tuples_te_p_shu = open('/home/tonghe2/Polyvore_small/Exp1c/tuple_180/tuples_test_posi_shuffled.txt').readlines()\n",
    "tuples_te_n_shu = open('/home/tonghe2/Polyvore_small/Exp1c/tuple_180/tuples_test_neg_shuffled.txt').readlines()\n",
    "\n",
    "tuples_te = []\n",
    "for i in range(0, len(tuples_te_p_shu)):\n",
    "    tuples_te.append(tuples_te_p_shu[i].strip('\\r\\n') + ' 1' + '\\r\\n')\n",
    "    tuples_te.append(tuples_te_n_shu[i].strip('\\r\\n') + ' 0' + '\\r\\n')\n",
    "\n",
    "random.shuffle(tuples_te)\n",
    "random.shuffle(tuples_te)\n",
    "random.shuffle(tuples_te)\n",
    "\n",
    "#read test inter idx\n",
    "top_test = open(\"/home/tonghe2/Polyvore_small/Exp1c/tuple_180/top_ind_test.txt\").readlines()\n",
    "bot_test = open(\"/home/tonghe2/Polyvore_small/Exp1c/tuple_180/bottom_ind_test.txt\").readlines()\n",
    "sho_test = open(\"/home/tonghe2/Polyvore_small/Exp1c/tuple_180/shoe_ind_test.txt\").readlines()\n",
    "\n",
    "te_top = open('/home/tonghe2/Polyvore_small/Exp1c/tuple_180/te_top.txt','w')\n",
    "te_bottom = open('/home/tonghe2/Polyvore_small/Exp1c/tuple_180/te_bottom.txt','w')\n",
    "te_shoe = open('/home/tonghe2/Polyvore_small/Exp1c/tuple_180/te_shoe.txt','w')\n",
    "\n",
    "\n",
    "for i in range(0, len(tuples_te)):\n",
    "    #label\n",
    "    label = re.findall(r'\\d+',tuples_te[i])[4]\n",
    "    #inter idx\n",
    "    top_idx1 = re.findall(r'\\d+',tuples_te[i])[1]\n",
    "    bot_idx1 = re.findall(r'\\d+',tuples_te[i])[2]\n",
    "    sho_idx1 = re.findall(r'\\d+',tuples_te[i])[3]\n",
    "    #final idx\n",
    "    top_idx2 = top_test[int(top_idx1)]\n",
    "    bot_idx2 = bot_test[int(bot_idx1)]\n",
    "    sho_idx2 = sho_test[int(sho_idx1)]\n",
    "    #image path + label\n",
    "    top_img = 'top/'+top_path[int(top_idx2)].strip('\\r\\n')+' '+label+'\\r\\n'\n",
    "    bot_img = 'bottom/'+bot_path[int(bot_idx2)].strip('\\r\\n')+' '+label+'\\r\\n'\n",
    "    sho_img = 'shoe/'+sho_path[int(sho_idx2)].strip('\\r\\n')+' '+label+'\\r\\n'\n",
    "    #write to te_top.txt\n",
    "    te_top.write(top_img)\n",
    "    #write to te_bottom.txt\n",
    "    te_bottom.write(bot_img)\n",
    "    #write to te_shoe.txt\n",
    "    te_shoe.write(sho_img)\n",
    "\n",
    "te_top.close()\n",
    "te_bottom.close()\n",
    "te_shoe.close()"
   ]
  },
  {
   "cell_type": "code",
   "execution_count": null,
   "metadata": {
    "collapsed": true
   },
   "outputs": [],
   "source": []
  }
 ],
 "metadata": {
  "kernelspec": {
   "display_name": "Python 2",
   "language": "python",
   "name": "python2"
  },
  "language_info": {
   "codemirror_mode": {
    "name": "ipython",
    "version": 2
   },
   "file_extension": ".py",
   "mimetype": "text/x-python",
   "name": "python",
   "nbconvert_exporter": "python",
   "pygments_lexer": "ipython2",
   "version": "2.7.6"
  }
 },
 "nbformat": 4,
 "nbformat_minor": 0
}
