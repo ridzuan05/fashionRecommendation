{
 "cells": [
  {
   "cell_type": "code",
   "execution_count": 10,
   "metadata": {
    "collapsed": true
   },
   "outputs": [],
   "source": [
    "train_posi = open(\"./tuples_test_posi_shuffled.txt\").readlines()\n",
    "train_neg = open(\"./tuples_test_neg_shuffled.txt\").readlines()"
   ]
  },
  {
   "cell_type": "code",
   "execution_count": 11,
   "metadata": {
    "collapsed": true
   },
   "outputs": [],
   "source": [
    "import random\n",
    "random.shuffle(train_posi)\n",
    "random.shuffle(train_neg)"
   ]
  },
  {
   "cell_type": "code",
   "execution_count": 12,
   "metadata": {
    "collapsed": true
   },
   "outputs": [],
   "source": [
    "train_posi_new = open('tuples_test_posi_shuffled.txt','w')\n",
    "train_neg_new = open('tuples_test_neg_shuffled.txt','w')\n",
    "\n",
    "for i in range(len(train_posi)):\n",
    "    train_posi_new.write(train_posi[i])\n",
    "for i in range(len(train_neg)):\n",
    "    train_neg_new.write(train_neg[i])\n",
    "\n",
    "train_posi_new.close()\n",
    "train_neg_new.close()"
   ]
  },
  {
   "cell_type": "code",
   "execution_count": 13,
   "metadata": {
    "collapsed": true
   },
   "outputs": [],
   "source": [
    "##########################\n",
    "#train_lmdb_list:(top,bot,sho,top2,bot2,sho2,...)"
   ]
  },
  {
   "cell_type": "code",
   "execution_count": 1,
   "metadata": {
    "collapsed": true
   },
   "outputs": [],
   "source": [
    "from itertools import izip"
   ]
  },
  {
   "cell_type": "code",
   "execution_count": 2,
   "metadata": {
    "collapsed": true
   },
   "outputs": [],
   "source": [
    "f_posi = open(\"tuples_train_posi_shuffled.txt\")\n",
    "f_neg = open(\"tuples_train_neg_shuffled.txt\")"
   ]
  },
  {
   "cell_type": "code",
   "execution_count": 3,
   "metadata": {
    "collapsed": false
   },
   "outputs": [],
   "source": [
    "import re\n",
    "\n",
    "top_train = open(\"./top_ind_train.txt\").readlines()\n",
    "bot_train = open(\"./bottom_ind_train.txt\").readlines()\n",
    "sho_train = open(\"./shoe_ind_train.txt\").readlines()\n",
    "top_path = open(\"../img_list/img_list_top.txt\").readlines()\n",
    "bot_path = open(\"../img_list/img_list_bottom.txt\").readlines()\n",
    "sho_path = open(\"../img_list/img_list_shoe.txt\").readlines()"
   ]
  },
  {
   "cell_type": "code",
   "execution_count": 4,
   "metadata": {
    "collapsed": true
   },
   "outputs": [],
   "source": [
    "train_lmdb_list = open('train_lmdb_list.txt','w')\n",
    "\n",
    "for line_posi, line_neg in izip(f_posi, f_neg):\n",
    "    #inter idx posi & neg\n",
    "    top_posi_idx1 = re.findall(r'\\d+',line_posi)[1]\n",
    "    bot_posi_idx1 = re.findall(r'\\d+',line_posi)[2]\n",
    "    sho_posi_idx1 = re.findall(r'\\d+',line_posi)[3]\n",
    "    top_nega_idx1 = re.findall(r'\\d+',line_neg)[1]\n",
    "    bot_nega_idx1 = re.findall(r'\\d+',line_neg)[2]\n",
    "    sho_nega_idx1 = re.findall(r'\\d+',line_neg)[3]\n",
    "    #final idx posi & neg\n",
    "    top_posi_idx2 = top_train[int(top_posi_idx1)]\n",
    "    bot_posi_idx2 = bot_train[int(bot_posi_idx1)]\n",
    "    sho_posi_idx2 = sho_train[int(sho_posi_idx1)]\n",
    "    top_nega_idx2 = top_train[int(top_nega_idx1)]\n",
    "    bot_nega_idx2 = bot_train[int(bot_nega_idx1)]\n",
    "    sho_nega_idx2 = sho_train[int(sho_nega_idx1)] \n",
    "    #image path posi & neg\n",
    "    top_posi_img = 'top/'+top_path[int(top_posi_idx2)].strip('\\r\\n')+' 1'+'\\r\\n'\n",
    "    bot_posi_img = 'bottom/'+bot_path[int(bot_posi_idx2)].strip('\\r\\n')+' 1'+'\\r\\n'\n",
    "    sho_posi_img = 'shoe/'+sho_path[int(sho_posi_idx2)].strip('\\r\\n')+' 1'+'\\r\\n'\n",
    "    top_nega_img = 'top/'+top_path[int(top_nega_idx2)].strip('\\r\\n')+' 1'+'\\r\\n'\n",
    "    bot_nega_img = 'bottom/'+bot_path[int(bot_nega_idx2)].strip('\\r\\n')+' 1'+'\\r\\n'\n",
    "    sho_nega_img = 'shoe/'+sho_path[int(sho_nega_idx2)].strip('\\r\\n')+' 1'+'\\r\\n'\n",
    "    #write into train_lmdb_list.txt\n",
    "    train_lmdb_list.write(top_posi_img)\n",
    "    train_lmdb_list.write(bot_posi_img)\n",
    "    train_lmdb_list.write(sho_posi_img)\n",
    "    train_lmdb_list.write(top_nega_img)\n",
    "    train_lmdb_list.write(bot_nega_img)\n",
    "    train_lmdb_list.write(sho_nega_img)\n",
    "\n",
    "f_posi.close()\n",
    "f_neg.close()\n",
    "train_lmdb_list.close()"
   ]
  },
  {
   "cell_type": "code",
   "execution_count": 5,
   "metadata": {
    "collapsed": true
   },
   "outputs": [],
   "source": [
    "##########################\n",
    "#test_lmdb_list:(top,bot,sho,top2,bot2,sho2,...)"
   ]
  },
  {
   "cell_type": "code",
   "execution_count": 6,
   "metadata": {
    "collapsed": true
   },
   "outputs": [],
   "source": [
    "f_posi = open(\"tuples_test_posi_shuffled.txt\")\n",
    "f_neg = open(\"tuples_test_neg_shuffled.txt\")"
   ]
  },
  {
   "cell_type": "code",
   "execution_count": 7,
   "metadata": {
    "collapsed": true
   },
   "outputs": [],
   "source": [
    "top_test = open(\"./top_ind_test.txt\").readlines()\n",
    "bot_test = open(\"./bottom_ind_test.txt\").readlines()\n",
    "sho_test = open(\"./shoe_ind_test.txt\").readlines()"
   ]
  },
  {
   "cell_type": "code",
   "execution_count": 8,
   "metadata": {
    "collapsed": true
   },
   "outputs": [],
   "source": [
    "test_lmdb_list = open('test_lmdb_list.txt','w')\n",
    "\n",
    "for line_posi, line_neg in izip(f_posi, f_neg):\n",
    "    #inter idx posi & neg\n",
    "    top_posi_idx1 = re.findall(r'\\d+',line_posi)[1]\n",
    "    bot_posi_idx1 = re.findall(r'\\d+',line_posi)[2]\n",
    "    sho_posi_idx1 = re.findall(r'\\d+',line_posi)[3]\n",
    "    top_nega_idx1 = re.findall(r'\\d+',line_neg)[1]\n",
    "    bot_nega_idx1 = re.findall(r'\\d+',line_neg)[2]\n",
    "    sho_nega_idx1 = re.findall(r'\\d+',line_neg)[3]\n",
    "    #final idx posi & neg\n",
    "    top_posi_idx2 = top_test[int(top_posi_idx1)]\n",
    "    bot_posi_idx2 = bot_test[int(bot_posi_idx1)]\n",
    "    sho_posi_idx2 = sho_test[int(sho_posi_idx1)]\n",
    "    top_nega_idx2 = top_test[int(top_nega_idx1)]\n",
    "    bot_nega_idx2 = bot_test[int(bot_nega_idx1)]\n",
    "    sho_nega_idx2 = sho_test[int(sho_nega_idx1)] \n",
    "    #image path posi & neg\n",
    "    top_posi_img = 'top/'+top_path[int(top_posi_idx2)].strip('\\r\\n')+' 1'+'\\r\\n'\n",
    "    bot_posi_img = 'bottom/'+bot_path[int(bot_posi_idx2)].strip('\\r\\n')+' 1'+'\\r\\n'\n",
    "    sho_posi_img = 'shoe/'+sho_path[int(sho_posi_idx2)].strip('\\r\\n')+' 1'+'\\r\\n'\n",
    "    top_nega_img = 'top/'+top_path[int(top_nega_idx2)].strip('\\r\\n')+' 1'+'\\r\\n'\n",
    "    bot_nega_img = 'bottom/'+bot_path[int(bot_nega_idx2)].strip('\\r\\n')+' 1'+'\\r\\n'\n",
    "    sho_nega_img = 'shoe/'+sho_path[int(sho_nega_idx2)].strip('\\r\\n')+' 1'+'\\r\\n'\n",
    "    #write into train_lmdb_list.txt\n",
    "    test_lmdb_list.write(top_posi_img)\n",
    "    test_lmdb_list.write(bot_posi_img)\n",
    "    test_lmdb_list.write(sho_posi_img)\n",
    "    test_lmdb_list.write(top_nega_img)\n",
    "    test_lmdb_list.write(bot_nega_img)\n",
    "    test_lmdb_list.write(sho_nega_img)\n",
    "\n",
    "f_posi.close()\n",
    "f_neg.close()\n",
    "test_lmdb_list.close()"
   ]
  },
  {
   "cell_type": "code",
   "execution_count": null,
   "metadata": {
    "collapsed": true
   },
   "outputs": [],
   "source": []
  }
 ],
 "metadata": {
  "kernelspec": {
   "display_name": "Python 2",
   "language": "python",
   "name": "python2"
  },
  "language_info": {
   "codemirror_mode": {
    "name": "ipython",
    "version": 2
   },
   "file_extension": ".py",
   "mimetype": "text/x-python",
   "name": "python",
   "nbconvert_exporter": "python",
   "pygments_lexer": "ipython2",
   "version": "2.7.6"
  }
 },
 "nbformat": 4,
 "nbformat_minor": 0
}
