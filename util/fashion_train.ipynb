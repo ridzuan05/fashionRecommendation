{
 "cells": [
  {
   "cell_type": "code",
   "execution_count": 1,
   "metadata": {
    "collapsed": true
   },
   "outputs": [],
   "source": [
    "import numpy as np\n",
    "import sys\n",
    "sys.path.insert(0,'/local2/home/tong/caffe-master/python')\n",
    "import caffe\n"
   ]
  },
  {
   "cell_type": "code",
   "execution_count": 2,
   "metadata": {
    "collapsed": true
   },
   "outputs": [],
   "source": [
    "caffe.set_mode_gpu()\n",
    "caffe.set_device(0)\n"
   ]
  },
  {
   "cell_type": "code",
   "execution_count": null,
   "metadata": {
    "collapsed": true
   },
   "outputs": [],
   "source": [
    "#for training\n",
    "solver = caffe.SGDSolver('fashion_solver3_rank.prototxt')\n",
    "#solver.net.copy_from('/local2/home/tong/fashionRecommendation/data/VGG_CNN_M_2048.caffemodel')\n",
    "#solver.test_nets[0].copy_from('/local2/home/tong/fashionRecommendation/data/VGG_CNN_M_2048.caffemodel')\n",
    "solver.net.copy_from('/local2/home/tong/fashionRecommendation/fashion_predict3_15260.caffemodel')\n",
    "solver.test_nets[0].copy_from('/local2/home/tong/fashionRecommendation/fashion_predict3_15260.caffemodel')\n"
   ]
  },
  {
   "cell_type": "code",
   "execution_count": null,
   "metadata": {
    "collapsed": true
   },
   "outputs": [],
   "source": [
    "#for saving caffemodel\n",
    "net = caffe.Net('fashion_deploy3.prototxt', caffe.TEST)\n"
   ]
  },
  {
   "cell_type": "code",
   "execution_count": null,
   "metadata": {
    "collapsed": true
   },
   "outputs": [],
   "source": [
    "#verify solver.net & solver.test_nets[0]\n",
    "solver.net.forward()\n",
    "solver.test_nets[0].forward()\n",
    "\n",
    "print(solver.net.blobs['accuracy'].data, \n",
    "      solver.test_nets[0].blobs['accuracy'].data)\n",
    "\n",
    "if solver.test_nets[0].blobs['accuracy'].data > 0.3:\n",
    "    print 'feasible!'"
   ]
  },
  {
   "cell_type": "code",
   "execution_count": null,
   "metadata": {
    "collapsed": true
   },
   "outputs": [],
   "source": [
    "#training solver.net\n",
    "recordDir = '/local2/home/tong/fashionRecommendation/data/record/fashionNet3_rank/'\n",
    "\n",
    "k = 0\n",
    "for i in range (3401,100003):\n",
    "    #save caffemodel every single epoch (~ 3375 iters)\n",
    "    if (i % 3400 == 0):\n",
    "        #copy parameters solver.net -> net\n",
    "        params = net.params.keys()\n",
    "        source_params = {pr: (solver.net.params[pr][0].data,solver.net.params[pr][1].data) for pr in params}\n",
    "        target_params = {pr: (net.params[pr][0].data,net.params[pr][1].data) for pr in params}\n",
    "        for pr in params:\n",
    "            target_params[pr][0][...] = source_params[pr][0] #weights\n",
    "            target_params[pr][1][...] = source_params[pr][1] #bias\n",
    "        #save caffemodel\n",
    "        net.save(recordDir+'fashion_predict3_rank_'+str(i)+'.caffemodel')\n",
    "    # update parameters\n",
    "    solver.step(1)\n",
    "    # record train (accuracy, loss)\n",
    "    tr_accu = open(recordDir + 'tr_accu.txt','a')\n",
    "    tr_loss = open(recordDir + 'tr_loss.txt','a')\n",
    "    tr_accu.write(str(i)+' '+str(solver.net.blobs['accuracy'].data)+'\\r\\n')\n",
    "    tr_loss.write(str(i)+' '+str(solver.net.blobs['rank_Loss'].data)+'\\r\\n')\n",
    "    tr_accu.close()\n",
    "    tr_loss.close()       \n",
    "    if (i % 100 == 0):\n",
    "        # record test (accuracy, loss)\n",
    "        te_accu = open(recordDir + 'te_accu.txt','a')\n",
    "        te_loss = open(recordDir + 'te_loss.txt','a')\n",
    "        te_accu.write(str(i)+' '+str(solver.test_nets[0].blobs['accuracy'].data)+'\\r\\n')\n",
    "        te_loss.write(str(i)+' '+str(solver.test_nets[0].blobs['rank_Loss'].data)+'\\r\\n')\n",
    "        te_accu.close()\n",
    "        te_loss.close()\n",
    "        # ending criteria\n",
    "        if solver.test_nets[0].blobs['accuracy'].data > 0.93:\n",
    "            k = k + 1\n",
    "            if (k > 100):\n",
    "                print '\\n\\ntest accuracy: {} > 0.93 for 100 times\\n\\n'.format(solver.test_nets[0].blobs['accuracy'].data)\n",
    "                break\n",
    "        "
   ]
  },
  {
   "cell_type": "code",
   "execution_count": null,
   "metadata": {
    "collapsed": true
   },
   "outputs": [],
   "source": [
    "#copy parameters solver.net -> net\n",
    "params = net.params.keys()\n",
    "source_params = {pr: (solver.net.params[pr][0].data,solver.net.params[pr][1].data) for pr in params}\n",
    "target_params = {pr: (net.params[pr][0].data,net.params[pr][1].data) for pr in params}\n",
    "for pr in params:\n",
    "    target_params[pr][0][...] = source_params[pr][0] #weights\n",
    "    target_params[pr][1][...] = source_params[pr][1] #bias\n"
   ]
  },
  {
   "cell_type": "code",
   "execution_count": null,
   "metadata": {
    "collapsed": true
   },
   "outputs": [],
   "source": [
    "#verify params copy\n",
    "print 'solver.net: ', solver.net.params['metric_fc1'][0].data\n",
    "print 'net:', solver.net.params['metric_fc1'][0].data\n"
   ]
  },
  {
   "cell_type": "code",
   "execution_count": null,
   "metadata": {
    "collapsed": true
   },
   "outputs": [],
   "source": [
    "#save caffemodel\n",
    "net.save('ffashion_predict3_rank.caffemodel')\n"
   ]
  },
  {
   "cell_type": "code",
   "execution_count": null,
   "metadata": {
    "collapsed": true
   },
   "outputs": [],
   "source": [
    "#verify caffemodel\n",
    "net_Verify = caffe.Net('fashion_deploy.prototxt',\n",
    "                'fashion_predict.caffemodel',\n",
    "                caffe.TEST)\n"
   ]
  },
  {
   "cell_type": "code",
   "execution_count": null,
   "metadata": {
    "collapsed": false
   },
   "outputs": [],
   "source": [
    "#verify input data (posi outfit)\n",
    "\n",
    "#input VGG_mean.jpg\n",
    "blob = caffe.proto.caffe_pb2.BlobProto()\n",
    "data = open('./data/VGG_mean.binaryproto', 'rb' ).read()\n",
    "blob.ParseFromString(data)\n",
    "VGG_mean = np.array( caffe.io.blobproto_to_array(blob) )\n",
    "VGG_mean.astype(np.uint8)\n",
    "\n",
    "#get data from blobs\n",
    "top = np.array(solver.net.blobs['top'].data[0])\n",
    "bottom = np.array(solver.net.blobs['bottom'].data[0])\n",
    "shoes = np.array(solver.net.blobs['shoes'].data[0])\n",
    "#change data type to np.uint8\n",
    "top.astype(np.uint8)\n",
    "bottom.astype(np.uint8)\n",
    "shoes.astype(np.uint8)\n",
    "#add VGG_mean\n",
    "top = top + VGG_mean[0,]\n",
    "bottom = bottom + VGG_mean[0,]\n",
    "shoes = shoes + VGG_mean[0,]\n",
    "#BGR to RGB\n",
    "top = np.array([top[2,],top[1,],top[0,]])\n",
    "bottom = np.array([bottom[2,],bottom[1,],bottom[0,]])\n",
    "shoes = np.array([shoes[2,],shoes[1,],shoes[0,]])\n",
    "#(C,H,W) to (H,W,C)\n",
    "top = np.rollaxis(top,0,3)\n",
    "bottom = np.rollaxis(bottom,0,3)\n",
    "shoes = np.rollaxis(shoes,0,3)\n",
    "#temp buffer for using Image.fromarray(*)\n",
    "temp_top = np.zeros(top.shape,np.uint8)\n",
    "temp_bottom = np.zeros(bottom.shape,np.uint8)\n",
    "temp_shoes = np.zeros(shoes.shape,np.uint8)\n",
    "#copy data to buffer\n",
    "for i in range(0,top.shape[0]):\n",
    "    for j in range(0,top.shape[1]):\n",
    "        for k in range(0,top.shape[2]):\n",
    "            temp_top[i,j,k] = top[i,j,k]\n",
    "            temp_bottom[i,j,k] = bottom[i,j,k]\n",
    "            temp_shoes[i,j,k] = shoes[i,j,k]\n",
    "#np.array 2 image\n",
    "import Image\n",
    "img_top = Image.fromarray(temp_top)\n",
    "img_bottom = Image.fromarray(temp_bottom)\n",
    "img_shoes = Image.fromarray(temp_shoes)\n",
    "#save images\n",
    "img_top.save('./top.jpg')\n",
    "img_bottom.save('./bottom.jpg')\n",
    "img_shoes.save('./shoes.jpg')\n",
    "\n",
    "#verify input data (nega outfit)\n",
    "#get data from blobs\n",
    "top = np.array(solver.test_nets[0].blobs['top_n'].data[49])\n",
    "bottom = np.array(solver.test_nets[0].blobs['bottom_n'].data[49])\n",
    "shoes = np.array(solver.test_nets[0].blobs['shoes_n'].data[49])\n",
    "#change data type to np.uint8\n",
    "top.astype(np.uint8)\n",
    "bottom.astype(np.uint8)\n",
    "shoes.astype(np.uint8)\n",
    "#add VGG_mean\n",
    "top = top + VGG_mean\n",
    "bottom = bottom + VGG_mean\n",
    "shoes = shoes + VGG_mean\n",
    "#BGR to RGB\n",
    "top = np.array([top[2,],top[1,],top[0,]])\n",
    "bottom = np.array([bottom[2,],bottom[1,],bottom[0,]])\n",
    "shoes = np.array([shoes[2,],shoes[1,],shoes[0,]])\n",
    "#(C,H,W) to (H,W,C)\n",
    "top = np.rollaxis(top,0,3)\n",
    "bottom = np.rollaxis(bottom,0,3)\n",
    "shoes = np.rollaxis(shoes,0,3)\n",
    "#temp buffer for using Image.fromarray(*)\n",
    "temp_top = np.zeros(top.shape,np.uint8)\n",
    "temp_bottom = np.zeros(bottom.shape,np.uint8)\n",
    "temp_shoes = np.zeros(shoes.shape,np.uint8)\n",
    "#copy data to buffer\n",
    "for i in range(0,top.shape[0]):\n",
    "    for j in range(0,top.shape[1]):\n",
    "        for k in range(0,top.shape[2]):\n",
    "            temp_top[i,j,k] = top[i,j,k]\n",
    "            temp_bottom[i,j,k] = bottom[i,j,k]\n",
    "            temp_shoes[i,j,k] = shoes[i,j,k]\n",
    "#np.array 2 image\n",
    "import Image\n",
    "img_top = Image.fromarray(temp_top)\n",
    "img_bottom = Image.fromarray(temp_bottom)\n",
    "img_shoes = Image.fromarray(temp_shoes)\n",
    "#save images\n",
    "img_top.save('./top_n.jpg')\n",
    "img_bottom.save('./bottom_n.jpg')\n",
    "img_shoes.save('./shoes_n.jpg')"
   ]
  },
  {
   "cell_type": "code",
   "execution_count": null,
   "metadata": {
    "collapsed": false
   },
   "outputs": [],
   "source": []
  },
  {
   "cell_type": "code",
   "execution_count": null,
   "metadata": {
    "collapsed": true
   },
   "outputs": [],
   "source": []
  }
 ],
 "metadata": {
  "kernelspec": {
   "display_name": "Python 2",
   "language": "python",
   "name": "python2"
  },
  "language_info": {
   "codemirror_mode": {
    "name": "ipython",
    "version": 2
   },
   "file_extension": ".py",
   "mimetype": "text/x-python",
   "name": "python",
   "nbconvert_exporter": "python",
   "pygments_lexer": "ipython2",
   "version": "2.7.6"
  }
 },
 "nbformat": 4,
 "nbformat_minor": 0
}
