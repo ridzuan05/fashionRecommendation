{
 "cells": [
  {
   "cell_type": "code",
   "execution_count": 1,
   "metadata": {
    "collapsed": true
   },
   "outputs": [],
   "source": [
    "#prepare 'tuples_train_shuffled.txt'\n",
    "import re\n",
    "train_tuple = open(\"tuples_train_posi.txt\")\n",
    "neg_train_tuple = open(\"tuples_train_neg.txt\")"
   ]
  },
  {
   "cell_type": "code",
   "execution_count": 2,
   "metadata": {
    "collapsed": false
   },
   "outputs": [],
   "source": [
    "train_tuple_content = train_tuple.readlines()\n",
    "neg_train_tuple_content = neg_train_tuple.readlines()\n",
    "\n",
    "for i in range(len(train_tuple_content)):\n",
    "    train_tuple_content[i] = train_tuple_content[i].strip('\\r\\n') + ' 1\\r\\n'\n",
    "    train_tuple_content.append(neg_train_tuple_content[i].strip('\\r\\n') + ' 0\\r\\n')"
   ]
  },
  {
   "cell_type": "code",
   "execution_count": 3,
   "metadata": {
    "collapsed": false
   },
   "outputs": [],
   "source": [
    "import random\n",
    "random.shuffle(train_tuple_content)"
   ]
  },
  {
   "cell_type": "code",
   "execution_count": 4,
   "metadata": {
    "collapsed": true
   },
   "outputs": [],
   "source": [
    "train_tuple_shuffled = open('tuples_train_shuffled.txt','w')"
   ]
  },
  {
   "cell_type": "code",
   "execution_count": 5,
   "metadata": {
    "collapsed": false
   },
   "outputs": [],
   "source": [
    "for i in range(len(train_tuple_content)):\n",
    "    train_tuple_shuffled.write(train_tuple_content[i])\n",
    "\n",
    "train_tuple.close()\n",
    "neg_train_tuple.close()\n",
    "train_tuple_shuffled.close()"
   ]
  },
  {
   "cell_type": "code",
   "execution_count": 6,
   "metadata": {
    "collapsed": true
   },
   "outputs": [],
   "source": [
    "#prepare 'tuples_test_shuffled.txt'\n",
    "test_tuple = open(\"tuples_test_posi.txt\")\n",
    "neg_test_tuple = open(\"tuples_test_neg.txt\")"
   ]
  },
  {
   "cell_type": "code",
   "execution_count": 7,
   "metadata": {
    "collapsed": true
   },
   "outputs": [],
   "source": [
    "test_tuple_content = test_tuple.readlines()\n",
    "neg_test_tuple_content = neg_test_tuple.readlines()\n",
    "\n",
    "for i in range(len(test_tuple_content)):\n",
    "    test_tuple_content[i] = test_tuple_content[i].strip('\\r\\n') + ' 1\\r\\n'\n",
    "    test_tuple_content.append(neg_test_tuple_content[i].strip('\\r\\n') + ' 0\\r\\n')"
   ]
  },
  {
   "cell_type": "code",
   "execution_count": 8,
   "metadata": {
    "collapsed": true
   },
   "outputs": [],
   "source": [
    "random.shuffle(test_tuple_content)"
   ]
  },
  {
   "cell_type": "code",
   "execution_count": 9,
   "metadata": {
    "collapsed": true
   },
   "outputs": [],
   "source": [
    "test_tuple_shuffled = open('tuples_test_shuffled.txt','w')"
   ]
  },
  {
   "cell_type": "code",
   "execution_count": 10,
   "metadata": {
    "collapsed": true
   },
   "outputs": [],
   "source": [
    "for i in range(len(test_tuple_content)):\n",
    "    test_tuple_shuffled.write(test_tuple_content[i])\n",
    "    \n",
    "test_tuple.close()\n",
    "neg_test_tuple.close()\n",
    "test_tuple_shuffled.close()"
   ]
  },
  {
   "cell_type": "code",
   "execution_count": 2,
   "metadata": {
    "collapsed": true
   },
   "outputs": [],
   "source": [
    "#prepare lmdb & hdf5 for training data\n",
    "import re\n",
    "open('top_ind_test.txt')\n",
    "tuples_train = open('tuples_train_shuffled.txt')\n",
    "top_train = open(\"top_ind_train.txt\").readlines() \n",
    "bot_train = open(\"bottom_ind_train.txt\").readlines()\n",
    "sho_train = open(\"shoe_ind_train.txt\").readlines()\n",
    "top_path = open(\"../img_list/img_list_top.txt\").readlines()\n",
    "bot_path = open(\"../img_list/img_list_bottom.txt\").readlines()\n",
    "sho_path = open(\"../img_list/img_list_shoe.txt\").readlines()"
   ]
  },
  {
   "cell_type": "code",
   "execution_count": 5,
   "metadata": {
    "collapsed": false
   },
   "outputs": [
    {
     "name": "stdout",
     "output_type": "stream",
     "text": [
      "54000\n"
     ]
    }
   ],
   "source": [
    "#train tuples num\n",
    "for i, l in enumerate(tuples_train):\n",
    "            pass\n",
    "print(i+1)"
   ]
  },
  {
   "cell_type": "code",
   "execution_count": 6,
   "metadata": {
    "collapsed": false
   },
   "outputs": [],
   "source": [
    "import Image\n",
    "import numpy as np\n",
    "\n",
    "size = 300, 300\n",
    "\n",
    "k = 0\n",
    "count = 0\n",
    "\n",
    "#initialization\n",
    "#N = 54000\n",
    "#data = np.zeros(N,9,300,300)\n",
    "#labels = np.zeros(N,1)\n",
    "\n",
    "for line in tuples_train:\n",
    "    count = count + 1\n",
    "    if count % 100 == 0:\n",
    "        print(\"%d into LMDB......\"%(count))\n",
    "    #label 1-posi, 0-neg\n",
    "    label = np.array([int(re.findall(r'\\d+',line)[4])])\n",
    "    #inter idx\n",
    "    top_idx1 = re.findall(r'\\d+',line)[1]\n",
    "    bot_idx1 = re.findall(r'\\d+',line)[2]\n",
    "    sho_idx1 = re.findall(r'\\d+',line)[3]\n",
    "    #final idx\n",
    "    top_idx2 = top_train[int(top_idx1)]\n",
    "    bot_idx2 = bot_train[int(bot_idx1)]\n",
    "    sho_idx2 = sho_train[int(sho_idx1)]\n",
    "    #image path\n",
    "    top_img = '../../Images/top/' + top_path[int(top_idx2)].strip('\\r\\n')\n",
    "    bot_img = '../../Images/bottom/' + bot_path[int(bot_idx2)].strip('\\r\\n')\n",
    "    sho_img = '../../Images/shoe/' + sho_path[int(sho_idx2)].strip('\\r\\n')\n",
    "    #read images\n",
    "    im_top = Image.open(top_img)\n",
    "    im_bot = Image.open(bot_img)\n",
    "    im_sho = Image.open(sho_img)\n",
    "    #resize to the same size\n",
    "    im_top = im_top.resize(size, Image.ANTIALIAS)\n",
    "    im_bot = im_bot.resize(size, Image.ANTIALIAS)\n",
    "    im_sho = im_sho.resize(size, Image.ANTIALIAS)\n",
    "    #image to nparray\n",
    "    im_top = np.array(im_top)\n",
    "    im_bot = np.array(im_bot)\n",
    "    im_sho = np.array(im_sho)\n",
    "    #change type to np.int64, np.uint8 (lmdb)\n",
    "    label.astype(np.int64)\n",
    "    im_top.astype(np.uint8)\n",
    "    im_bot.astype(np.uint8)\n",
    "    im_sho.astype(np.uint8)\n",
    "    #change type to np.float32 (hdf5)\n",
    "    #label.astype(np.float32)\n",
    "    #im_top.astype(np.float32)\n",
    "    #im_bot.astype(np.float32)\n",
    "    #im_sho.astype(np.float32)\n",
    "    #from (height,width,channel) to (channel,height,width)\n",
    "    im_top = np.rollaxis(im_top,2,0)\n",
    "    im_bot = np.rollaxis(im_bot,2,0)\n",
    "    im_sho = np.rollaxis(im_sho,2,0)\n",
    "    #stack over \"channel\"\n",
    "    im_outfit = np.concatenate((im_top, im_bot, im_sho),axis = 0)\n",
    "    #from (channel,height,width) to (1,channel,height,width)\n",
    "    label = label[np.newaxis, :]\n",
    "    im_outfit = im_outfit[np.newaxis, :]\n",
    "    #for stacking over num\n",
    "    if k == 0:\n",
    "        k = 1\n",
    "        data = im_outfit\n",
    "        labels = label\n",
    "    else:\n",
    "        data = np.concatenate((data, im_outfit),axis = 0)\n",
    "        labels = np.concatenate((labels, label),axis = 0)"
   ]
  },
  {
   "cell_type": "code",
   "execution_count": 7,
   "metadata": {
    "collapsed": false
   },
   "outputs": [
    {
     "ename": "NameError",
     "evalue": "name 'data' is not defined",
     "output_type": "error",
     "traceback": [
      "\u001b[1;31m---------------------------------------------------------------------------\u001b[0m",
      "\u001b[1;31mNameError\u001b[0m                                 Traceback (most recent call last)",
      "\u001b[1;32m<ipython-input-7-e38ac0375636>\u001b[0m in \u001b[0;36m<module>\u001b[1;34m()\u001b[0m\n\u001b[1;32m----> 1\u001b[1;33m \u001b[1;32mprint\u001b[0m\u001b[1;33m(\u001b[0m\u001b[0mdata\u001b[0m\u001b[1;33m.\u001b[0m\u001b[0mshape\u001b[0m\u001b[1;33m)\u001b[0m\u001b[1;33m\u001b[0m\u001b[0m\n\u001b[0m\u001b[0;32m      2\u001b[0m \u001b[1;32mprint\u001b[0m\u001b[1;33m(\u001b[0m\u001b[0mlabels\u001b[0m\u001b[1;33m.\u001b[0m\u001b[0mshape\u001b[0m\u001b[1;33m)\u001b[0m\u001b[1;33m\u001b[0m\u001b[0m\n",
      "\u001b[1;31mNameError\u001b[0m: name 'data' is not defined"
     ]
    }
   ],
   "source": [
    "print(data.shape)\n",
    "print(labels.shape)"
   ]
  },
  {
   "cell_type": "code",
   "execution_count": 14,
   "metadata": {
    "collapsed": false
   },
   "outputs": [],
   "source": [
    "#write to lmdb\n",
    "import lmdb\n",
    "caffe_root = '/home/tonghe2/caffe-master/'  # this file is expected to be in {caffe_root}/examples/siamese\n",
    "import sys\n",
    "sys.path.insert(0, caffe_root + 'python')\n",
    "import caffe"
   ]
  },
  {
   "cell_type": "code",
   "execution_count": 15,
   "metadata": {
    "collapsed": true
   },
   "outputs": [],
   "source": [
    "map_size = data.nbytes * 10"
   ]
  },
  {
   "cell_type": "code",
   "execution_count": 19,
   "metadata": {
    "collapsed": false
   },
   "outputs": [],
   "source": [
    "env = lmdb.open('/home/tonghe2/train_lmdb', map_size=map_size)"
   ]
  },
  {
   "cell_type": "code",
   "execution_count": 20,
   "metadata": {
    "collapsed": true
   },
   "outputs": [],
   "source": [
    "with env.begin(write=True) as txn:     \n",
    "    # txn is a Transaction object\n",
    "    for i in range(labels.shape[0]):\n",
    "        datum = caffe.proto.caffe_pb2.Datum()\n",
    "        datum.channels = data.shape[1]\n",
    "        datum.height = data.shape[2]\n",
    "        datum.width = data.shape[3]\n",
    "        datum.data = data[i].tobytes()\n",
    "            \n",
    "        datum.label = int(labels[i])\n",
    "        str_id = '{:08}'.format(i)"
   ]
  },
  {
   "cell_type": "code",
   "execution_count": 74,
   "metadata": {
    "collapsed": false
   },
   "outputs": [],
   "source": [
    "#write to HDF5 (absolute path)\n",
    "import h5py\n",
    "with h5py.File('/home/tonghe2/train_hdf5.h5', 'w') as f:\n",
    "    f['data'] = data\n",
    "    f['label'] = labels  \n",
    "with open('/home/tonghe2/train_hdf5.txt', 'w') as f:\n",
    "    f.write('/home/tonghe2/train_hdf5.h5')\n",
    "    #print('/home/tonghe2/train_hdf5.h5', file=f)"
   ]
  },
  {
   "cell_type": "code",
   "execution_count": 100,
   "metadata": {
    "collapsed": false
   },
   "outputs": [
    {
     "name": "stdout",
     "output_type": "stream",
     "text": [
      "(3, 300, 300)\n",
      "(3, 300, 300)\n",
      "9\n",
      "(3, 300, 300)\n"
     ]
    }
   ],
   "source": [
    "#for test\n",
    "import Image\n",
    "import numpy as np\n",
    "\n",
    "size = 300, 300\n",
    "\n",
    "im = Image.open('../../Images/top/4717d9eee86381b0b02831d881fd9a150c2a869f.jpg')\n",
    "im = im.resize(size, Image.ANTIALIAS)\n",
    "im.show()\n",
    "(width, height) = im.size\n",
    "#print(width, height)\n",
    "\n",
    "im2 = np.array(im)\n",
    "#print(im2.shape)\n",
    "im2.astype(np.float32)\n",
    "\n",
    "im2_ = np.rollaxis(im2,2,0)\n",
    "print(im2_.shape)\n",
    "\n",
    "#im3 = Image.fromarray(im2)\n",
    "#im3.show()\n",
    "#(width, height) = im3.size\n",
    "#print(width, height)\n",
    "\n",
    "im2_input = im2_[np.newaxis, :]\n",
    "#print(im2_input.shape)\n",
    "\n",
    "im4 = Image.open('../../Images/top/b5d0e05e344d0a62ceacace3725beea646f0aefa.jpg')\n",
    "im4 = im4.resize(size, Image.ANTIALIAS)\n",
    "im4.show()\n",
    "im4 = np.array(im4)\n",
    "#print(im4.shape)\n",
    "im4.astype(np.float32)\n",
    "\n",
    "im4_ = np.rollaxis(im4,2,0)\n",
    "print(im4_.shape)\n",
    "\n",
    "imx = im4_\n",
    "\n",
    "im_final = np.concatenate((im2_, im4_, imx),axis = 0)\n",
    "print(im_final.shape)\n",
    "\n",
    "#slice for test\n",
    "im1_back = im_final[6:9,:,:]\n",
    "print(im1_back.shape)\n",
    "im1_back = np.rollaxis(im1_back,0,3)\n",
    "im1_back = Image.fromarray(im1_back)\n",
    "im1_back.show()"
   ]
  },
  {
   "cell_type": "code",
   "execution_count": 10,
   "metadata": {
    "collapsed": false
   },
   "outputs": [
    {
     "name": "stdout",
     "output_type": "stream",
     "text": [
      "2\n"
     ]
    }
   ],
   "source": [
    "size = 1, 2\n",
    "print(size[1])"
   ]
  },
  {
   "cell_type": "code",
   "execution_count": null,
   "metadata": {
    "collapsed": true
   },
   "outputs": [],
   "source": []
  }
 ],
 "metadata": {
  "kernelspec": {
   "display_name": "Python 2",
   "language": "python",
   "name": "python2"
  },
  "language_info": {
   "codemirror_mode": {
    "name": "ipython",
    "version": 2
   },
   "file_extension": ".py",
   "mimetype": "text/x-python",
   "name": "python",
   "nbconvert_exporter": "python",
   "pygments_lexer": "ipython2",
   "version": "2.7.6"
  }
 },
 "nbformat": 4,
 "nbformat_minor": 0
}
