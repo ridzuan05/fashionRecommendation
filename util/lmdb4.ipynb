{
 "cells": [
  {
   "cell_type": "code",
   "execution_count": 12,
   "metadata": {
    "collapsed": true
   },
   "outputs": [],
   "source": [
    "from itertools import izip\n",
    "import re"
   ]
  },
  {
   "cell_type": "code",
   "execution_count": 13,
   "metadata": {
    "collapsed": true
   },
   "outputs": [],
   "source": [
    "#read train inter idx\n",
    "top_train = open(\"/home/tonghe2/Polyvore_small/Exp1c/tuple_180/top_ind_train.txt\").readlines()\n",
    "bot_train = open(\"/home/tonghe2/Polyvore_small/Exp1c/tuple_180/bottom_ind_train.txt\").readlines()\n",
    "sho_train = open(\"/home/tonghe2/Polyvore_small/Exp1c/tuple_180/shoe_ind_train.txt\").readlines()\n",
    "#read test inter idx\n",
    "top_test = open(\"/home/tonghe2/Polyvore_small/Exp1c/tuple_180/top_ind_test.txt\").readlines()\n",
    "bot_test = open(\"/home/tonghe2/Polyvore_small/Exp1c/tuple_180/bottom_ind_test.txt\").readlines()\n",
    "sho_test = open(\"/home/tonghe2/Polyvore_small/Exp1c/tuple_180/shoe_ind_test.txt\").readlines()\n",
    "#read image path\n",
    "top_path = open(\"/home/tonghe2/Polyvore_small/Exp1c/img_list/img_list_top.txt\").readlines()\n",
    "bot_path = open(\"/home/tonghe2/Polyvore_small/Exp1c/img_list/img_list_bottom.txt\").readlines()\n",
    "sho_path = open(\"/home/tonghe2/Polyvore_small/Exp1c/img_list/img_list_shoe.txt\").readlines()"
   ]
  },
  {
   "cell_type": "code",
   "execution_count": 14,
   "metadata": {
    "collapsed": false
   },
   "outputs": [],
   "source": [
    "#for training data\n",
    "tr_p_top = open('/home/tonghe2/Polyvore_small/Exp1c/tuple_180/tr_p_top.txt','w')\n",
    "tr_p_bottom = open('/home/tonghe2/Polyvore_small/Exp1c/tuple_180/tr_p_bottom.txt','w')\n",
    "tr_p_shoe = open('/home/tonghe2/Polyvore_small/Exp1c/tuple_180/tr_p_shoe.txt','w')\n",
    "tr_n_top = open('/home/tonghe2/Polyvore_small/Exp1c/tuple_180/tr_n_top.txt','w')\n",
    "tr_n_bottom = open('/home/tonghe2/Polyvore_small/Exp1c/tuple_180/tr_n_bottom.txt','w')\n",
    "tr_n_shoe = open('/home/tonghe2/Polyvore_small/Exp1c/tuple_180/tr_n_shoe.txt','w')\n",
    "\n",
    "#open tuples_train_posi_shuffled (270000), tuples_train_neg_shuffled (270000)\n",
    "tuples_tr_p_shu = open('/home/tonghe2/Polyvore_small/Exp1c/tuple_180/tuples_train_posi_shuffled.txt')\n",
    "tuples_tr_n_shu = open('/home/tonghe2/Polyvore_small/Exp1c/tuple_180/tuples_train_neg_shuffled.txt')\n",
    "\n",
    "for line_tr_p, line_tr_n in izip(tuples_tr_p_shu, tuples_tr_n_shu):\n",
    "    #inter idx posi & neg\n",
    "    top_posi_idx1 = re.findall(r'\\d+',line_tr_p)[1]\n",
    "    bot_posi_idx1 = re.findall(r'\\d+',line_tr_p)[2]\n",
    "    sho_posi_idx1 = re.findall(r'\\d+',line_tr_p)[3]\n",
    "    top_nega_idx1 = re.findall(r'\\d+',line_tr_n)[1]\n",
    "    bot_nega_idx1 = re.findall(r'\\d+',line_tr_n)[2]\n",
    "    sho_nega_idx1 = re.findall(r'\\d+',line_tr_n)[3]\n",
    "    #final idx posi & neg\n",
    "    top_posi_idx2 = top_train[int(top_posi_idx1)]\n",
    "    bot_posi_idx2 = bot_train[int(bot_posi_idx1)]\n",
    "    sho_posi_idx2 = sho_train[int(sho_posi_idx1)]\n",
    "    top_nega_idx2 = top_train[int(top_nega_idx1)]\n",
    "    bot_nega_idx2 = bot_train[int(bot_nega_idx1)]\n",
    "    sho_nega_idx2 = sho_train[int(sho_nega_idx1)] \n",
    "    #image path posi & neg\n",
    "    top_posi_img = 'top/'+top_path[int(top_posi_idx2)].strip('\\r\\n')+' 1'+'\\r\\n'\n",
    "    bot_posi_img = 'bottom/'+bot_path[int(bot_posi_idx2)].strip('\\r\\n')+' 1'+'\\r\\n'\n",
    "    sho_posi_img = 'shoe/'+sho_path[int(sho_posi_idx2)].strip('\\r\\n')+' 1'+'\\r\\n'\n",
    "    top_nega_img = 'top/'+top_path[int(top_nega_idx2)].strip('\\r\\n')+' 0'+'\\r\\n'\n",
    "    bot_nega_img = 'bottom/'+bot_path[int(bot_nega_idx2)].strip('\\r\\n')+' 0'+'\\r\\n'\n",
    "    sho_nega_img = 'shoe/'+sho_path[int(sho_nega_idx2)].strip('\\r\\n')+' 0'+'\\r\\n'\n",
    "    #write to tr_p_top.txt\n",
    "    tr_p_top.write(top_posi_img)\n",
    "    #write to tr_p_bottom.txt\n",
    "    tr_p_bottom.write(bot_posi_img)\n",
    "    #write to tr_p_shoe.txt\n",
    "    tr_p_shoe.write(sho_posi_img)\n",
    "    #write to tr_n_top.txt\n",
    "    tr_n_top.write(top_nega_img)\n",
    "    #write to tr_n_bottom.txt\n",
    "    tr_n_bottom.write(bot_nega_img)\n",
    "    #write to tr_n_shoe.txt\n",
    "    tr_n_shoe.write(sho_nega_img)\n",
    "\n",
    "tuples_tr_p_shu.close()\n",
    "tuples_tr_n_shu.close()\n",
    "tr_p_top.close()\n",
    "tr_p_bottom.close()\n",
    "tr_p_shoe.close()\n",
    "tr_n_top.close()\n",
    "tr_n_bottom.close()\n",
    "tr_n_shoe.close()"
   ]
  },
  {
   "cell_type": "code",
   "execution_count": 15,
   "metadata": {
    "collapsed": true
   },
   "outputs": [],
   "source": [
    "#for testing data\n",
    "te_p_top = open('/home/tonghe2/Polyvore_small/Exp1c/tuple_180/te_p_top.txt','w')\n",
    "te_p_bottom = open('/home/tonghe2/Polyvore_small/Exp1c/tuple_180/te_p_bottom.txt','w')\n",
    "te_p_shoe = open('/home/tonghe2/Polyvore_small/Exp1c/tuple_180/te_p_shoe.txt','w')\n",
    "te_n_top = open('/home/tonghe2/Polyvore_small/Exp1c/tuple_180/te_n_top.txt','w')\n",
    "te_n_bottom = open('/home/tonghe2/Polyvore_small/Exp1c/tuple_180/te_n_bottom.txt','w')\n",
    "te_n_shoe = open('/home/tonghe2/Polyvore_small/Exp1c/tuple_180/te_n_shoe.txt','w')\n",
    "\n",
    "#open tuples_test_posi_shuffled (67500), tuples_test_neg_shuffled (67500)\n",
    "tuples_te_p_shu = open('/home/tonghe2/Polyvore_small/Exp1c/tuple_180/tuples_test_posi_shuffled.txt')\n",
    "tuples_te_n_shu = open('/home/tonghe2/Polyvore_small/Exp1c/tuple_180/tuples_test_neg_shuffled.txt')\n",
    "\n",
    "for line_te_p, line_te_n in izip(tuples_te_p_shu, tuples_te_n_shu):\n",
    "    #inter idx posi & neg\n",
    "    top_posi_idx1 = re.findall(r'\\d+',line_te_p)[1]\n",
    "    bot_posi_idx1 = re.findall(r'\\d+',line_te_p)[2]\n",
    "    sho_posi_idx1 = re.findall(r'\\d+',line_te_p)[3]\n",
    "    top_nega_idx1 = re.findall(r'\\d+',line_te_n)[1]\n",
    "    bot_nega_idx1 = re.findall(r'\\d+',line_te_n)[2]\n",
    "    sho_nega_idx1 = re.findall(r'\\d+',line_te_n)[3]\n",
    "    #final idx posi & neg\n",
    "    top_posi_idx2 = top_test[int(top_posi_idx1)]\n",
    "    bot_posi_idx2 = bot_test[int(bot_posi_idx1)]\n",
    "    sho_posi_idx2 = sho_test[int(sho_posi_idx1)]\n",
    "    top_nega_idx2 = top_test[int(top_nega_idx1)]\n",
    "    bot_nega_idx2 = bot_test[int(bot_nega_idx1)]\n",
    "    sho_nega_idx2 = sho_test[int(sho_nega_idx1)] \n",
    "    #image path posi & neg\n",
    "    top_posi_img = 'top/'+top_path[int(top_posi_idx2)].strip('\\r\\n')+' 1'+'\\r\\n'\n",
    "    bot_posi_img = 'bottom/'+bot_path[int(bot_posi_idx2)].strip('\\r\\n')+' 1'+'\\r\\n'\n",
    "    sho_posi_img = 'shoe/'+sho_path[int(sho_posi_idx2)].strip('\\r\\n')+' 1'+'\\r\\n'\n",
    "    top_nega_img = 'top/'+top_path[int(top_nega_idx2)].strip('\\r\\n')+' 0'+'\\r\\n'\n",
    "    bot_nega_img = 'bottom/'+bot_path[int(bot_nega_idx2)].strip('\\r\\n')+' 0'+'\\r\\n'\n",
    "    sho_nega_img = 'shoe/'+sho_path[int(sho_nega_idx2)].strip('\\r\\n')+' 0'+'\\r\\n'\n",
    "    #write to tr_p_top.txt\n",
    "    te_p_top.write(top_posi_img)\n",
    "    #write to tr_p_bottom.txt\n",
    "    te_p_bottom.write(bot_posi_img)\n",
    "    #write to tr_p_shoe.txt\n",
    "    te_p_shoe.write(sho_posi_img)\n",
    "    #write to tr_n_top.txt\n",
    "    te_n_top.write(top_nega_img)\n",
    "    #write to tr_n_bottom.txt\n",
    "    te_n_bottom.write(bot_nega_img)\n",
    "    #write to tr_n_shoe.txt\n",
    "    te_n_shoe.write(sho_nega_img)\n",
    "\n",
    "tuples_te_p_shu.close()\n",
    "tuples_te_n_shu.close()\n",
    "te_p_top.close()\n",
    "te_p_bottom.close()\n",
    "te_p_shoe.close()\n",
    "te_n_top.close()\n",
    "te_n_bottom.close()\n",
    "te_n_shoe.close()"
   ]
  },
  {
   "cell_type": "code",
   "execution_count": null,
   "metadata": {
    "collapsed": true
   },
   "outputs": [],
   "source": []
  }
 ],
 "metadata": {
  "kernelspec": {
   "display_name": "Python 2",
   "language": "python",
   "name": "python2"
  },
  "language_info": {
   "codemirror_mode": {
    "name": "ipython",
    "version": 2
   },
   "file_extension": ".py",
   "mimetype": "text/x-python",
   "name": "python",
   "nbconvert_exporter": "python",
   "pygments_lexer": "ipython2",
   "version": "2.7.6"
  }
 },
 "nbformat": 4,
 "nbformat_minor": 0
}
