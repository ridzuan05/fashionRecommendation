{
 "cells": [
  {
   "cell_type": "code",
   "execution_count": null,
   "metadata": {
    "collapsed": true
   },
   "outputs": [],
   "source": [
    "#import matplotlib.pyplot as plt\n",
    "import matplotlib\n",
    "matplotlib.use('Agg') # Must be before importing matplotlib.pyplot or pylab!\n",
    "import matplotlib.pyplot as plt\n",
    "\n",
    "import numpy as np\n",
    "import sys\n",
    "sys.path.insert(0,'/local2/home/tong/caffe-master/python')\n",
    "import caffe\n",
    "\n",
    "import os\n",
    "from matplotlib import rc\n",
    "rc('mathtext', default='regular')\n",
    "\n",
    "from sklearn.metrics import confusion_matrix\n",
    "\n",
    "caffe.set_mode_gpu()\n",
    "caffe.set_device(0)\n"
   ]
  },
  {
   "cell_type": "code",
   "execution_count": null,
   "metadata": {
    "collapsed": true
   },
   "outputs": [],
   "source": [
    "#for training\n",
    "solver = caffe.SGDSolver('/local2/home/tong/fashionRecommendation/models/fashionNet_3/fashion_solver_3.prototxt')\n",
    "#CHANGE!!!\n",
    "# solver.net.copy_from('/local2/home/tong/fashionRecommendation/models/VGG_M_2048/VGG_CNN_M_2048.caffemodel')\n",
    "#CHANGE!!!\n",
    "# solver.test_nets[0].copy_from('/local2/home/tong/fashionRecommendation/models/VGG_M_2048/VGG_CNN_M_2048.caffemodel')\n",
    "# solver.net.copy_from('/local2/home/tong/fashionRecommendation/models/fashionNet_2/training_record/fashion_params_2_91448.caffemodel')\n",
    "# solver.test_nets[0].copy_from('/local2/home/tong/fashionRecommendation/models/fashionNet_2/training_record/fashion_params_2_91448.caffemodel')\n"
   ]
  },
  {
   "cell_type": "code",
   "execution_count": null,
   "metadata": {
    "collapsed": true
   },
   "outputs": [],
   "source": [
    "def test_avg(test_iter,iters):\n",
    "    avg_accu = 0\n",
    "    avg_loss = 0\n",
    "    y_l_true = []\n",
    "    y_l_pred = []\n",
    "    y_r_true = []\n",
    "    y_r_pred = []\n",
    "    for i in range(0,test_iter):\n",
    "        if (i%50==0 or (i==(test_iter-1))):\n",
    "            print(\"{}/{} @ {}\\n\".format(i+1,test_iter,iters))\n",
    "        solver.test_nets[0].forward()\n",
    "        avg_accu = avg_accu + solver.test_nets[0].blobs['accuracy'].data\n",
    "        avg_loss = avg_loss + solver.test_nets[0].blobs['rank_Loss'].data\n",
    "        for j in range(0,len(solver.test_nets[0].blobs['label_top'].data)):\n",
    "            y_l_pred.append(0 if solver.test_nets[0].blobs['metric_fc3'].data[j][0]>solver.test_nets[0].blobs['metric_fc3'].data[j][1] else 1)\n",
    "            y_l_true.append(1)\n",
    "            y_r_pred.append(0 if solver.test_nets[0].blobs['metric_fc3_n'].data[j][0]>solver.test_nets[0].blobs['metric_fc3_n'].data[j][1] else 1)\n",
    "            y_r_true.append(0)\n",
    "    cMat_l = confusion_matrix(y_l_true, y_l_pred)\n",
    "    if(len(cMat_l)==1):\n",
    "        cMat_l = [[0,0],[0,cMat_l[0][0]]]\n",
    "    cMat_r = confusion_matrix(y_r_true, y_r_pred)\n",
    "    if(len(cMat_r)==1):\n",
    "        cMat_r = [[cMat_r[0][0],0],[0,0]]\n",
    "    return (avg_accu/test_iter), (avg_loss/test_iter),cMat_l,cMat_r\n"
   ]
  },
  {
   "cell_type": "code",
   "execution_count": null,
   "metadata": {
    "collapsed": true
   },
   "outputs": [],
   "source": [
    "# test_iter = 450\n",
    "# test_accu,test_loss,cMat_l,cMat_r=test_avg(test_iter)\n",
    "# print(\"test_accu: {}\\n\".format(test_accu))\n",
    "# print(\"test_loss: {}\\n\".format(test_loss))\n",
    "# print(\"cMat_l:\\n\")\n",
    "# print(cMat_l)\n",
    "# print(\"\\ncMat_r:\\n\")\n",
    "# print(cMat_r)\n"
   ]
  },
  {
   "cell_type": "code",
   "execution_count": null,
   "metadata": {
    "collapsed": true
   },
   "outputs": [],
   "source": [
    "recordDir = '/local2/home/tong/fashionRecommendation/models/fashionNet_2/training_record/'\n",
    "test_interval = 184 # 1/50 train epoch\n",
    "test_iter = 450 # 1 test epoch\n",
    "start_iter = 0\n",
    "end_iter = start_iter+9178*(7+3) #7+3 epoch\n",
    "for i in range(start_iter,end_iter+1):\n",
    "    if (i%test_interval==0 or i==end_iter):\n",
    "        #validation & conf_matrix\n",
    "        solver.test_nets[0].copy_from(recordDir+'fashion_params_2_'+str(i)+'.caffemodel')\n",
    "        test_accu,test_loss,cMat_l,cMat_r=test_avg(test_iter,i)\n",
    "        test_rank_accu = open(recordDir + 'test_rank_accu.txt','a')\n",
    "        test_rank_loss = open(recordDir + 'test_rank_loss.txt','a')\n",
    "        test_rank_accu.write(str(i)+' '+str(test_accu)+'\\r\\n')\n",
    "        test_rank_loss.write(str(i)+' '+str(test_loss)+'\\r\\n')\n",
    "        test_rank_accu.close()\n",
    "        test_rank_loss.close()\n",
    "        te_l_conf = open(recordDir + 'conf_l_matrix.txt','a')\n",
    "        te_l_conf.write(str(i)+' '+str(cMat_l[0][0])+' '+str(cMat_l[0][1])+' '+str(cMat_l[1][0])+' '+str(cMat_l[1][1])+'\\r\\n')\n",
    "        te_l_conf.close()\n",
    "        te_r_conf = open(recordDir + 'conf_r_matrix.txt','a')\n",
    "        te_r_conf.write(str(i)+' '+str(cMat_r[0][0])+' '+str(cMat_r[0][1])+' '+str(cMat_r[1][0])+' '+str(cMat_r[1][1])+'\\r\\n')\n",
    "        te_r_conf.close()   \n",
    "        print(\"\\nIters done:{}, VAL_accu={}, VAL_loss={}.\\n\".format(i,test_accu,test_loss))\n",
    "        #visualization\n",
    "        test_accu_whole = []\n",
    "        test_loss_whole = []\n",
    "        test_accu_whole = open(recordDir+'test_rank_accu.txt').readlines()\n",
    "        test_loss_whole = open(recordDir+'test_rank_loss.txt').readlines()\n",
    "        test_iter_idx = []\n",
    "        test_loss = []\n",
    "        test_accuracy = []\n",
    "        for i in range(0, len(test_accu_whole)):\n",
    "            #test_iter_idx\n",
    "            test_iter_idx.append(int(test_accu_whole[i].strip('\\r\\n').split(' ')[0]))\n",
    "            #test_loss\n",
    "            test_loss.append(float(test_loss_whole[i].strip('\\r\\n').split(' ')[1]))\n",
    "            #test_accuracy\n",
    "            test_accuracy.append(float(test_accu_whole[i].strip('\\r\\n').split(' ')[1]))\n",
    "        fig = plt.figure()\n",
    "        ax_left = fig.add_subplot(111)\n",
    "        ax_left.plot(test_iter_idx, test_loss, '--gp', label = 'Avg_V_Loss')\n",
    "        ax_right = ax_left.twinx()\n",
    "        ax_right.plot(test_iter_idx, test_accuracy, '-yp', label = 'Avg_V_Accuracy')\n",
    "        # ask matplotlib for the plotted objects and their labels\n",
    "        lines_left, labels_left = ax_left.get_legend_handles_labels()\n",
    "        lines_right, labels_right = ax_right.get_legend_handles_labels()\n",
    "        ax_right.legend(lines_left + lines_right, labels_left + labels_right, loc=0)\n",
    "        ax_left.grid()\n",
    "        ax_left.set_xlabel(\"Training Iterations Done(n)\")\n",
    "        ax_left.set_ylabel(\"Loss\")\n",
    "        ax_right.set_ylabel(\"Accuracy\")\n",
    "        ax_right.set_title(\"HVA@({:.3f},{}), LVL@({:.3f},{})\".format(max(test_accuracy),test_iter_idx[test_accuracy.index(max(test_accuracy))],min(test_loss),test_iter_idx[test_loss.index(min(test_loss))]))\n",
    "        plt.savefig(recordDir+'rank_record.png', bbox_inches='tight')   \n"
   ]
  },
  {
   "cell_type": "code",
   "execution_count": null,
   "metadata": {
    "collapsed": true
   },
   "outputs": [],
   "source": [
    "import matplotlib\n",
    "matplotlib.use('Agg') # Must be before importing matplotlib.pyplot or pylab!\n",
    "import matplotlib.pyplot as plt\n",
    "import numpy as np\n",
    "\n",
    "recordDir = '/local2/home/tong/fashionRecommendation/models/fashionNet_2/training_record/'\n",
    "\n",
    "conf_l_matrix_whole = []\n",
    "conf_r_matrix_whole = []\n",
    "conf_l_matrix_whole = open(recordDir+'conf_l_matrix.txt').readlines()\n",
    "conf_r_matrix_whole = open(recordDir+'conf_r_matrix.txt').readlines()\n",
    "\n",
    "conf_matrix = []\n",
    "for i in range(0,len(conf_l_matrix_whole)):\n",
    "    conf_matrix.append([int(conf_r_matrix_whole[i].split(' ')[1]),int(conf_r_matrix_whole[i].split(' ')[2]), \\\n",
    "                        int(conf_l_matrix_whole[i].split(' ')[3]),int(conf_l_matrix_whole[i].split(' ')[4])])\n",
    "\n",
    "fig,ax = plt.subplots()\n",
    "im = ax.imshow(np.array(conf_matrix).T, interpolation='nearest', cmap=plt.cm.jet)\n",
    "fig.colorbar(im, ax=ax)\n",
    "plt.xlabel('Training Iterations Done(n)')\n",
    "plt.ylabel('like-1(like,dislike), dislike-0(like,dislike)')\n",
    "plt.title('Confusion Matrix@(dislike,like)')\n",
    "plt.savefig(recordDir+'cMat.png',bbox_inches='tight')\n"
   ]
  }
 ],
 "metadata": {
  "kernelspec": {
   "display_name": "Python 2",
   "language": "python",
   "name": "python2"
  },
  "language_info": {
   "codemirror_mode": {
    "name": "ipython",
    "version": 2
   },
   "file_extension": ".py",
   "mimetype": "text/x-python",
   "name": "python",
   "nbconvert_exporter": "python",
   "pygments_lexer": "ipython2",
   "version": "2.7.6"
  }
 },
 "nbformat": 4,
 "nbformat_minor": 0
}
